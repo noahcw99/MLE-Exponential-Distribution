{
  "cells": [
    {
      "cell_type": "markdown",
      "metadata": {
        "id": "view-in-github",
        "colab_type": "text"
      },
      "source": [
        "<a href=\"https://colab.research.google.com/github/noahcw99/MLE-Exponential-Distrubution/blob/main/noahwelsh_mle_exponential.ipynb\" target=\"_parent\"><img src=\"https://colab.research.google.com/assets/colab-badge.svg\" alt=\"Open In Colab\"/></a>"
      ]
    },
    {
      "cell_type": "markdown",
      "metadata": {
        "id": "XPbBCjnzbMYb"
      },
      "source": [
        "<a href=\"https://colab.research.google.com/github/pantelis/aiml-common/blob/master/assignments/mle/mle_exponential.ipynb\" target=\"_parent\"><img src=\"https://colab.research.google.com/assets/colab-badge.svg\" alt=\"Open In Colab\"/></a>"
      ]
    },
    {
      "cell_type": "markdown",
      "metadata": {
        "id": "FWlVpbDvyLZC"
      },
      "source": [
        "# Maximum Likelihood Parameter Estimation\n",
        "\n",
        "RUBRIC:\n",
        "\n",
        "1. If you provide just the plots/code, you will be granted 50% of the points. To win the remaining 50% you will need clear documentation.\n",
        "\n",
        "2. We need to see a clear explanation of all the stages of developing the solutions which means that you need to explain the code in a way that the writeup is understood by fellow students.\n",
        "\n",
        "3. Type inline with your Colab notebook your tutorial explanations. Equations can be typed in markdown using Latex syntax notation. If you prefer plain Python you can also include markdown as a separate file but you do need to ensure that all plots are inline to that markdown document and are parsed correctly by Github.\n",
        "\n",
        "4. Submit in the learning management system of your school (Canvas, Brightspace etc.) by first sharing the Colab or Github repo with the TA so that they can open it without any access restrictions. Any notebook that cant be accessed will receive the grade of 0. "
      ]
    },
    {
      "cell_type": "markdown",
      "metadata": {
        "id": "lCty1alAZ0o4"
      },
      "source": [
        "## Intro:\n",
        "\n",
        "**What is the exponential distribution?**\n",
        "\n",
        "The exponential distribution is a probability distribution that describes time between events in a Poisson process. There is a strong relationship between the Poisson distribution and the Exponential distribution. For example, let’s say a Poisson distribution models the number of births in a given time period. The time in between each birth can be modeled with an exponential distribution (Young & Young, 1998).\n",
        "\n",
        "**Poisson vs Exponential?**\n",
        "\n",
        "Let’s say a Youtube channel is interested in the number of views per hour. Arrivals per hour has a Poisson 120 arrival rate, which means that 120 viewers arrive per hour. This could also be said that “The expected mean inter-arrival time is 0.5 minutes”, because a viewer can be expected every 1/2 minute (30 seconds).\n",
        "\n",
        "The exponential distribution models this process, so we could write:\n",
        "Poisson 120 = Exponential 0.5\n",
        "\n",
        "The units for the Poisson process are viewers and the units for the exponential are minutes.\n",
        "\n",
        "\n",
        "**Videos that may help:**\n",
        "1.  https://www.youtube.com/watch?v=p3T-_LMrvBc&ab_channel=StatQuestwithJoshStarmer\n",
        "2. https://www.youtube.com/watch?v=2kg1O0j1J9c&ab_channel=zedstatistics\n",
        "\n",
        "\n"
      ]
    },
    {
      "cell_type": "markdown",
      "metadata": {
        "id": "5lcX212dYY7Q"
      },
      "source": [
        "## Part 1 (40 points):\n",
        "\n",
        "**A)** Let X = amount of time (in minutes) a ice cream man gets a new customer at his cart. The time is known to have an exponential distribution with the average amount of time between a new customer being four minutes. \n",
        "\n",
        "Plot the probablity density function of the exponential distribution of this ice cream man getting a customer every 4 minutes. (20 points)\n",
        "\n",
        "You may use the Python libraries to calculate the exponential distribution and to plot. https://docs.scipy.org/doc/scipy/reference/generated/scipy.stats.expon.html"
      ]
    },
    {
      "cell_type": "markdown",
      "source": [
        "# \\begin{align}\n",
        "       \\ f(x)=λe^{-λx} \\\\\n",
        "       λ=0.25, X=time\n",
        "    \\end{align}\n",
        "\n",
        "# Using the scipy.stats library I was able to generate a pdf for my y-axis using lambda = 4 (where it is automatically made into 1/4 during the equation). Plotting this equation on the y-axis I made the x-axis go to 20 minutes where the curve began to near 0."
      ],
      "metadata": {
        "id": "bQu_CPf7utE4"
      }
    },
    {
      "cell_type": "code",
      "execution_count": null,
      "metadata": {
        "id": "4RneUSLOqVb_",
        "colab": {
          "base_uri": "https://localhost:8080/",
          "height": 296
        },
        "outputId": "b9594304-162b-4bb8-cc26-4f473eeec75c"
      },
      "outputs": [
        {
          "output_type": "display_data",
          "data": {
            "image/png": "[encoded data removed]",
            "text/plain": [
              "<Figure size 432x288 with 1 Axes>"
            ]
          },
          "metadata": {
            "needs_background": "light"
          }
        }
      ],
      "source": [
        "#Problem 1A)\n",
        "\n",
        "#begin with imports used\n",
        "import numpy as np\n",
        "import matplotlib.pyplot as plt\n",
        "from scipy.stats import expon\n",
        "\n",
        "#create figure of plot\n",
        "fig, ax = plt.subplots(1, 1)\n",
        "#generate interval for x\n",
        "x = np.linspace(0, 20)\n",
        "\n",
        "#plot y axis as expon.pdf(x, scale=4), where scale=4 is the mean plotted as lambda (1/4)\n",
        "plt.plot(x, expon.pdf(x, scale=4),'r-', lw=2, alpha=1, label='expon pdf')\n",
        "\n",
        "#title plot and label axis\n",
        "plt.ylabel('Probability of Customer Arriving')\n",
        "plt.xlabel('Time Passed (minutes)')\n",
        "plt.title('PDF of λ = 1/4', fontsize=14)\n",
        "ax.legend(loc='best', frameon=False)\n",
        "\n",
        "#display plot\n",
        "plt.show()"
      ]
    },
    {
      "cell_type": "markdown",
      "metadata": {
        "id": "T9kdxDU9dgnJ"
      },
      "source": [
        "**B)** Now assume on a very hot day the ice cream man gets X customers and each new customer comes every 4 minutes. Generate X samples from the exponential distribution where X = 200 and the rate = 4. Plot the samples on a graph to show how they look graphically. Does it look similar to the graph above? (20 points)"
      ]
    },
    {
      "cell_type": "markdown",
      "source": [
        "# Used the numpy library import to generate X samples from the exponential distribution where X = 200 and rate = 4. After saving those 200 generated samples to a variabe, I used plt.hist to plot them"
      ],
      "metadata": {
        "id": "-owxkf8FYGB0"
      }
    },
    {
      "cell_type": "code",
      "execution_count": null,
      "metadata": {
        "id": "pkBM-lroqZOd",
        "colab": {
          "base_uri": "https://localhost:8080/",
          "height": 296
        },
        "outputId": "ae423d26-5a16-4d07-e6d1-4a1b7717d632"
      },
      "outputs": [
        {
          "output_type": "display_data",
          "data": {
            "image/png": "[encoded data removed]",
            "text/plain": [
              "<Figure size 432x288 with 1 Axes>"
            ]
          },
          "metadata": {
            "needs_background": "light"
          }
        }
      ],
      "source": [
        "#Problem 1B)\n",
        "\n",
        "#begin with imports used\n",
        "import numpy as np\n",
        "import matplotlib.pyplot as plt\n",
        "\n",
        "#generate X samples where X = 200 and rate = 4\n",
        "samples = np.random.exponential(scale=4, size=200)\n",
        "\n",
        "#plot histogram using samples\n",
        "plt.hist(samples, 15, density = True)\n",
        "\n",
        "#title plot and label axis\n",
        "plt.ylabel('Probability of Customer Arriving')\n",
        "plt.xlabel('Time Passed (minutes)')\n",
        "plt.title('Simulation of PDF of λ = 1/4 Using 200', fontsize=14)\n",
        "\n",
        "plt.show()"
      ]
    },
    {
      "cell_type": "markdown",
      "metadata": {
        "id": "7thN1KwBZ0up"
      },
      "source": [
        "## Part 2 (60 points)\n",
        "\n",
        "Assume that you are given the customer data generated in Part 1, implement a Gradient Descent algorithm from scratch that will estimate the Exponential distribution according to the Maximum Likelihood criterion.\n",
        "\n",
        "Answer the following:\n",
        "\n",
        "1. Plot the negative log likelihood of the exponential distribution. (20 points)\n",
        "2. What is the lambda MLE of the generated data? (20 points)\n",
        "3. Plot the estimated lambda vs iterations to showcase convergence towards the true lambda (20 points)\n",
        "\n",
        "\n",
        "Read this article to obtain the likelihood and negative log likelihood function of the exponential distribution: https://www.statlect.com/fundamentals-of-statistics/exponential-distribution-maximum-likelihood\n"
      ]
    },
    {
      "cell_type": "markdown",
      "source": [
        "# \\begin{align}\n",
        "        \\ n \\mathrm{ln}(λ)-λ \\sum_{j-1}^n x_j \\\\\n",
        "        \\ n=sample \\hspace{2mm} size, λ = randomly \\hspace{2mm} generated  \\hspace{2mm}lambdas, \\sum_{j-1}^n x_j = sum \\hspace{2mm} of \\hspace{2mm}X \\hspace{2mm} samples\n",
        "    \\end{align}\n",
        "\n",
        "# Used the same X samples generated in problem #1B, generating 200 λ between 0 and 1 to create my negative log likelihood array which will represent the y-axis, whereas the x-axis will just be the possible values of λ. Using the above formula I plugged in the variables for each random lambda generated to create my array, and plotted it against λ."
      ],
      "metadata": {
        "id": "t0fdGDAkV3Fc"
      }
    },
    {
      "cell_type": "code",
      "execution_count": null,
      "metadata": {
        "id": "R4Q5H9hrqage",
        "colab": {
          "base_uri": "https://localhost:8080/",
          "height": 296
        },
        "outputId": "17e43957-1fda-4485-beb4-508b693adb15"
      },
      "outputs": [
        {
          "output_type": "display_data",
          "data": {
            "image/png": "[encoded data removed]",
            "text/plain": [
              "<Figure size 432x288 with 1 Axes>"
            ]
          },
          "metadata": {
            "needs_background": "light"
          }
        }
      ],
      "source": [
        "#Problem 2.1\n",
        "\n",
        "#begin with imports used\n",
        "import math\n",
        "import numpy as np\n",
        "import matplotlib.pyplot as plt\n",
        "\n",
        "#generate X samples where n = 200 and rate = 4\n",
        "samples = np.random.exponential(scale=4, size=200)\n",
        "\n",
        "#generate random lambdas between 0 and 1\n",
        "randomLambda = np.linspace(start=0.0001, stop=1, num=200)\n",
        "\n",
        "#take sum of all samples\n",
        "samplesSum = np.sum(samples)\n",
        "\n",
        "#declare array for negative log likelihood before filling with values from formula\n",
        "negLogLikelihood = []\n",
        "\n",
        "#using the negative log likelihood formula, fill using values given from the randomly generated data\n",
        "for eachLambda in randomLambda:\n",
        "  negLogLikelihood.append(-((len(randomLambda) * np.log(eachLambda)) - (eachLambda * samplesSum)))\n",
        "\n",
        "#plot y axis as expon.pdf(x, scale=4), where scale=4 is the mean plotted as lambda (1/4)\n",
        "plt.plot(randomLambda, negLogLikelihood,'r-', lw=2, alpha=1, label='expon pdf')\n",
        "\n",
        "#title plot and label axis\n",
        "plt.ylabel('Negative Log Likelihood')\n",
        "plt.xlabel('λ')\n",
        "plt.title('Negative Log Likelihood of the Exponential Distribution', fontsize=14)\n",
        "ax.legend(loc='best', frameon=False)\n",
        "\n",
        "#display plot\n",
        "plt.show()"
      ]
    },
    {
      "cell_type": "markdown",
      "source": [
        "# \\begin{align}\n",
        "        𝜆_n = \\frac{n}{ \\sum_{j-1}^n x_j} \\\\\n",
        "        n=sample \\hspace{2mm}size, \\sum_{j-1}^n x_j = sum \\hspace{2mm} of \\hspace{2mm}X \\hspace{2mm} samples\n",
        "    \\end{align}\n",
        "\n",
        "# Using the same generated samples from previous problems, and then taking the sum of those generated samples and plugging them into the above formulas gives the lambda MLE of the generated data."
      ],
      "metadata": {
        "id": "ouTBevzclY1U"
      }
    },
    {
      "cell_type": "code",
      "source": [
        "#Problem 2.2\n",
        "\n",
        "#begin with imports used\n",
        "import numpy as np\n",
        "\n",
        "#generate X samples where n = 200 and rate = 4\n",
        "samples = np.random.exponential(scale=4, size=200)\n",
        "\n",
        "#take sum of all samples\n",
        "samplesSum = np.sum(samples)\n",
        "\n",
        "#plug two values into above lambda MLE formula\n",
        "lambdaMLE = len(samples)/samplesSum\n",
        "\n",
        "print(lambdaMLE)"
      ],
      "metadata": {
        "colab": {
          "base_uri": "https://localhost:8080/"
        },
        "id": "HIJ_qfFblOIg",
        "outputId": "772ffd0f-5e54-4e4d-fa42-1f5e4e9767f9"
      },
      "execution_count": null,
      "outputs": [
        {
          "output_type": "stream",
          "name": "stdout",
          "text": [
            "0.2235972057718953\n"
          ]
        }
      ]
    }
  ],
  "metadata": {
    "colab": {
      "collapsed_sections": [],
      "provenance": [],
      "include_colab_link": true
    },
    "kernelspec": {
      "display_name": "Python 3 (ipykernel)",
      "language": "python",
      "name": "python3"
    },
    "language_info": {
      "codemirror_mode": {
        "name": "ipython",
        "version": 3
      },
      "file_extension": ".py",
      "mimetype": "text/x-python",
      "name": "python",
      "nbconvert_exporter": "python",
      "pygments_lexer": "ipython3",
      "version": "3.9.7"
    }
  },
  "nbformat": 4,
  "nbformat_minor": 0
}